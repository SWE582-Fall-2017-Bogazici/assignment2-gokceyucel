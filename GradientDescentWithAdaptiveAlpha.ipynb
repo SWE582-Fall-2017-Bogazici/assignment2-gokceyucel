{
 "cells": [
  {
   "cell_type": "code",
   "execution_count": 81,
   "metadata": {},
   "outputs": [
    {
     "name": "stdout",
     "output_type": "stream",
     "text": [
      "0 : 253.620021909\n",
      "100 : 10870.0033042\n",
      "200 : 1197.36864682\n",
      "300 : 65.0274814306\n",
      "400 : 135.785036764\n",
      "500 : 346.529839977\n",
      "600 : 35.8604936829\n",
      "700 : 3.91177631765\n",
      "800 : 1.48313379359\n",
      "900 : 1.26420195103\n"
     ]
    }
   ],
   "source": [
    "%matplotlib inline\n",
    "import matplotlib.pylab as plt\n",
    "\n",
    "import time\n",
    "from IPython import display\n",
    "import numpy as np\n",
    "\n",
    "x = np.array([10., 8., 13., 9., 11., 14., 6., 4., 12., 7., 5.])\n",
    "y = np.array([8.04, 6.95, 7.58, 8.81, 8.33, 9.96, 7.24, 4.26, 10.84, 4.82, 5.68])\n",
    "N = len(x)\n",
    "\n",
    "# Design matrix\n",
    "A = np.vstack((np.ones(N), x, x**2, x**3)).T\n",
    "\n",
    "# Learning rate\n",
    "alpha = 0.000001\n",
    "p = np.zeros(4)\n",
    "beta = 0.95\n",
    "prev_err = 0.\n",
    "              \n",
    "# initial parameters\n",
    "w = np.array([2., 1., 0.1, 0.001])\n",
    "\n",
    "for epoch in range(1000):\n",
    "    # Error\n",
    "    err = y-A.dot(w)\n",
    "    \n",
    "    # Total error\n",
    "    prev_err = E\n",
    "    E = np.sum(err**2)/N\n",
    "    \n",
    "    if epoch > 0:\n",
    "        if prev_err < E:\n",
    "            # Decrease alpha since error is increasing\n",
    "            alpha = alpha * 0.9\n",
    "        else:\n",
    "            # Increase alpha since error is decreasing\n",
    "            alpha = alpha * 1.1\n",
    "    else:\n",
    "        # Set previous \n",
    "        prev_err = E  \n",
    "     \n",
    "    # Gradient\n",
    "    dE = -2.*A.T.dot(err)/N\n",
    "    p = dE + beta*p\n",
    "    \n",
    "    if epoch%100 == 0: \n",
    "        print(epoch, ':', E)\n",
    "\n",
    "    # Perfom one descent step\n",
    "    w = w - alpha * p"
   ]
  },
  {
   "cell_type": "code",
   "execution_count": null,
   "metadata": {},
   "outputs": [],
   "source": []
  }
 ],
 "metadata": {
  "kernelspec": {
   "display_name": "Python 3",
   "language": "python",
   "name": "python3"
  },
  "language_info": {
   "codemirror_mode": {
    "name": "ipython",
    "version": 3
   },
   "file_extension": ".py",
   "mimetype": "text/x-python",
   "name": "python",
   "nbconvert_exporter": "python",
   "pygments_lexer": "ipython3",
   "version": "3.6.0"
  }
 },
 "nbformat": 4,
 "nbformat_minor": 2
}
